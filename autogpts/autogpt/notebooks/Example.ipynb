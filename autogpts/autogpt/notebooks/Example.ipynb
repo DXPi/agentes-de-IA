{
 "cells": [
  {
   "cell_type": "markdown",
   "id": "dd93746a",
   "metadata": {},
   "source": [
    "# Create server"
   ]
  },
  {
   "cell_type": "code",
   "execution_count": 1,
   "id": "fd60d321",
   "metadata": {},
   "outputs": [
    {
     "name": "stderr",
     "output_type": "stream",
     "text": [
      "Warning: Input is not a terminal (fd=0).\n"
     ]
    }
   ],
   "source": [
    "from autogpt.app.main import create_server\n",
    "\n",
    "server = create_server()"
   ]
  },
  {
   "cell_type": "markdown",
   "id": "48feb49f",
   "metadata": {},
   "source": [
    "# Create new task"
   ]
  },
  {
   "cell_type": "code",
   "execution_count": 2,
   "id": "e979bc47",
   "metadata": {},
   "outputs": [
    {
     "name": "stdout",
     "output_type": "stream",
     "text": [
      "2024-02-09 15:14:52,829 \u001b[34mINFO\u001b[0m  hf-chat loaded\n",
      "2024-02-09 15:14:52,830 \u001b[34mINFO\u001b[0m  token loaded\n"
     ]
    }
   ],
   "source": [
    "from forge.sdk.model import TaskRequestBody\n",
    "\n",
    "response = await server.create_task(TaskRequestBody(input=\"Write result of 2 + 2 in karam.data file\"))"
   ]
  },
  {
   "cell_type": "code",
   "execution_count": 3,
   "id": "57fff547",
   "metadata": {},
   "outputs": [
    {
     "name": "stdout",
     "output_type": "stream",
     "text": [
      "input='Write result of 2 + 2 in karam.data file' additional_input={} created_at=datetime.datetime(2024, 2, 9, 11, 44, 52, 810412) modified_at=datetime.datetime(2024, 2, 9, 11, 44, 52, 810415) task_id='5cd4102e-4e0b-4d24-ad16-d1049634d6d3' artifacts=[]\n"
     ]
    }
   ],
   "source": [
    "#detail of a create task response\n",
    "task_id = response.task_id\n",
    "print(response)\n"
   ]
  },
  {
   "cell_type": "markdown",
   "id": "fcf8dd6b",
   "metadata": {},
   "source": [
    "# Execute step"
   ]
  },
  {
   "cell_type": "code",
   "execution_count": 4,
   "id": "9219824e",
   "metadata": {},
   "outputs": [],
   "source": [
    "from forge.sdk.model import StepRequestBody\n",
    "\n",
    "step_response = await server.execute_step(task_id=task_id, step_request=StepRequestBody())"
   ]
  },
  {
   "cell_type": "code",
   "execution_count": 7,
   "id": "389f4d52",
   "metadata": {},
   "outputs": [
    {
     "name": "stdout",
     "output_type": "stream",
     "text": [
      "name=None input=None additional_input={} created_at=datetime.datetime(2024, 2, 9, 11, 46, 8, 425748) modified_at=datetime.datetime(2024, 2, 9, 11, 46, 22, 731226) task_id='5cd4102e-4e0b-4d24-ad16-d1049634d6d3' step_id='1c5326c7-cf9b-4493-abbf-cf8f8c1ba9ff' status=<Status.completed: 'completed'> output='I am going to calculate the sum of 2 + 2 and save the result to the \\'karam.data\\' file.\\n\\nNext Command: execute_python_code(code=\"result = 2 + 2;\\\\nopen_file(\\'karam.data\\');\\\\nwrite_file(file_path=\\'karam.data\\', contents=str(result))\")' additional_output={'thoughts': {'observations': \"User requested writing the result of 2 + 2 to a file named 'karam.data'.\", 'text': 'To accomplish this task, I first need to calculate the sum of 2 + 2, then write the result to the specified file.', 'reasoning': \"Using the 'execute_python_code' command, I can efficiently compute the sum within the same command where I write to the file. This saves time compared to executing separate commands for calculation and writing.\", 'self_criticism': '', 'plan': \"- Calculate 2 + 2\\n- Write the resulting value ('4') to the file 'karam.data'\", 'speak': \"I am going to calculate the sum of 2 + 2 and save the result to the 'karam.data' file.\"}, 'command': {'name': 'execute_python_code', 'args': {'code': \"result = 2 + 2;\\nopen_file('karam.data');\\nwrite_file(file_path='karam.data', contents=str(result))\"}}} artifacts=[] is_last=False\n"
     ]
    }
   ],
   "source": [
    "#detail of a create step response\n",
    "print(step_response)"
   ]
  },
  {
   "cell_type": "markdown",
   "id": "81563e8a",
   "metadata": {},
   "source": [
    "# List steps of a task"
   ]
  },
  {
   "cell_type": "code",
   "execution_count": 14,
   "id": "72a02890",
   "metadata": {},
   "outputs": [
    {
     "name": "stdout",
     "output_type": "stream",
     "text": [
      "I am going to calculate the sum of 2 + 2 and save the result to the 'karam.data' file.\n",
      "\n",
      "Next Command: execute_python_code(code=\"result = 2 + 2;\\nopen_file('karam.data');\\nwrite_file(file_path='karam.data', contents=str(result))\")\n"
     ]
    }
   ],
   "source": [
    "response_steps = await server.list_steps(task_id=task_id)\n",
    "\n",
    "for step in response_steps.steps:\n",
    "    print(step.output)"
   ]
  },
  {
   "cell_type": "markdown",
   "id": "623933a9",
   "metadata": {},
   "source": [
    "# List tasks"
   ]
  },
  {
   "cell_type": "code",
   "execution_count": 15,
   "id": "9a9c2ce2",
   "metadata": {},
   "outputs": [
    {
     "name": "stdout",
     "output_type": "stream",
     "text": [
      "ecdc0174-9363-4a61-a0cc-1119fffb85ed: Write the word 'Washington' to a .txt file\n",
      "ea002900-bf25-4c7a-95b4-4309eae5be0b: Write the word 'Washington' to a .txt file\n",
      "4311c783-3fb3-49d4-8b75-87fd3fe0ba9b: Write the word 'Washington' to a .txt file\n",
      "47d9147f-8374-485d-80f6-305b334d88d5: Write the word 'Washington' to a .txt file\n",
      "227661d5-3bdc-406e-85f8-be360433ec70: Write the word 'Washington' to a .txt file\n",
      "56fb0bf5-3df3-4157-8fb5-c89533ca67d4: Write the word 'Washington' to a .txt file\n",
      "359a7751-f41d-4844-93dd-927c796080e5: Write the word 'Washington' to a .txt file\n",
      "ed576fc5-f63c-432d-8608-059c90d84908: Write the word 'Washington' to a .txt file\n",
      "65378dc2-4de1-4a6f-91e7-fd3c6d53d670: Write result of 3 + 2 in test.data file\n",
      "691db931-3351-4856-a62d-66a5cd14571a: Write result of 3 + 2 in test.data file\n"
     ]
    }
   ],
   "source": [
    "response = await server.list_tasks()\n",
    "for task in response.tasks:\n",
    "    print(task.task_id + \": \" + task.input)\n"
   ]
  }
 ],
 "metadata": {
  "kernelspec": {
   "display_name": "Python 3 (ipykernel)",
   "language": "python",
   "name": "python3"
  },
  "language_info": {
   "codemirror_mode": {
    "name": "ipython",
    "version": 3
   },
   "file_extension": ".py",
   "mimetype": "text/x-python",
   "name": "python",
   "nbconvert_exporter": "python",
   "pygments_lexer": "ipython3",
   "version": "3.10.12"
  }
 },
 "nbformat": 4,
 "nbformat_minor": 5
}
